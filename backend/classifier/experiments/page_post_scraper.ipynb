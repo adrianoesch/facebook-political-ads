{
 "cells": [
  {
   "cell_type": "code",
   "execution_count": null,
   "metadata": {
    "collapsed": false
   },
   "outputs": [],
   "source": [
    "import facebook\n",
    "import requests as r\n",
    "import csv\n",
    "import json\n",
    "from bs4 import BeautifulSoup\n",
    "\n",
    "token='ADD_ACCESS_TOKEN_HERE'\n",
    "\n",
    "graph = facebook.GraphAPI(access_token=token, version = 2.7)"
   ]
  },
  {
   "cell_type": "code",
   "execution_count": null,
   "metadata": {
    "collapsed": false
   },
   "outputs": [],
   "source": [
    "posts = graph.request('/csu/posts')\n",
    "posts"
   ]
  },
  {
   "cell_type": "code",
   "execution_count": null,
   "metadata": {
    "collapsed": true
   },
   "outputs": [],
   "source": [
    "german_parties = ['cdu', \n",
    "                  'spd', \n",
    "                  'linkspartei', \n",
    "                  'b90diegruenen',\n",
    "                  'csu',\n",
    "                  'fdp',\n",
    "                  'alternativefuerde',\n",
    "                  'freie.waehler.bundesvereinigung']"
   ]
  },
  {
   "cell_type": "code",
   "execution_count": null,
   "metadata": {
    "collapsed": false,
    "scrolled": false
   },
   "outputs": [],
   "source": [
    "# Get non-political advertisers\n",
    "reader = csv.reader(open('german_ads.csv', 'r'))\n",
    "\n",
    "german_advertisers = set()\n",
    "for line in reader:\n",
    "    if line[2] == '0':\n",
    "        soup = BeautifulSoup(line[1])\n",
    "        for link in soup.find_all('a', href=True):\n",
    "            if 'facebook.com' in link['href']:\n",
    "                name = link['href'].split('/')[3]\n",
    "                if '-' in name:\n",
    "                    name = name.split('-')[-1]\n",
    "                german_advertisers.add(name)\n",
    "                break         \n",
    "            "
   ]
  },
  {
   "cell_type": "code",
   "execution_count": null,
   "metadata": {
    "collapsed": false
   },
   "outputs": [],
   "source": [
    "def get_posts_by_page(page_name, num_pages):\n",
    "    try:\n",
    "        posts = graph.request('/'+page_name+'/posts')\n",
    "    except:\n",
    "        return []\n",
    "    page_count = 0\n",
    "    post_bodies = []\n",
    "    while posts and page_count < num_pages:\n",
    "        for post in posts['data']:\n",
    "            if 'message' in post:\n",
    "                post_bodies.append(post['message'])\n",
    "        if page_count < num_pages and 'paging' in posts :\n",
    "            posts = r.get(posts['paging']['next']).json()\n",
    "            page_count += 1\n",
    "        else :\n",
    "            posts = None\n",
    "            break\n",
    "    return post_bodies\n"
   ]
  },
  {
   "cell_type": "code",
   "execution_count": null,
   "metadata": {
    "collapsed": false
   },
   "outputs": [],
   "source": [
    "posts_by_party = dict()\n",
    "\n",
    "for party in german_parties:\n",
    "    posts_by_party[party] = get_posts_by_page(party, 8)"
   ]
  },
  {
   "cell_type": "code",
   "execution_count": null,
   "metadata": {
    "collapsed": false
   },
   "outputs": [],
   "source": [
    "posts_by_non_political = dict()\n",
    "for advertiser in german_advertisers:\n",
    "    posts_by_non_political[advertiser] = get_posts_by_page(advertiser, 8)"
   ]
  },
  {
   "cell_type": "code",
   "execution_count": null,
   "metadata": {
    "collapsed": false
   },
   "outputs": [],
   "source": [
    "political_messages = [x.replace('\\n', ' ') for party in posts_by_party for x in posts_by_party[party]]\n",
    "non_political_messages = [x.replace('\\n', ' ') for advertiser in posts_by_non_political for x in posts_by_non_political[advertiser]]"
   ]
  },
  {
   "cell_type": "code",
   "execution_count": null,
   "metadata": {
    "collapsed": false
   },
   "outputs": [],
   "source": [
    "non_political_messages"
   ]
  },
  {
   "cell_type": "code",
   "execution_count": null,
   "metadata": {
    "collapsed": true
   },
   "outputs": [],
   "source": [
    "json.dump(political_messages, open('political_german.json', 'w'))\n",
    "json.dump(non_political_messages, open('not_political_german.json', 'w'))"
   ]
  }
 ],
 "metadata": {
  "kernelspec": {
   "display_name": "Python 3",
   "language": "python",
   "name": "python3"
  },
  "language_info": {
   "codemirror_mode": {
    "name": "ipython",
    "version": 3
   },
   "file_extension": ".py",
   "mimetype": "text/x-python",
   "name": "python",
   "nbconvert_exporter": "python",
   "pygments_lexer": "ipython3",
   "version": "3.5.2"
  }
 },
 "nbformat": 4,
 "nbformat_minor": 2
}
